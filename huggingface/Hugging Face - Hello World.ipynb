{
 "cells": [
  {
   "cell_type": "code",
   "execution_count": null,
   "id": "characteristic-there",
   "metadata": {},
   "outputs": [],
   "source": [
    "!pip -q install \"transformers>=4.4.2\" \"datasets[s3]>=1.5.0\" --upgrade"
   ]
  },
  {
   "cell_type": "markdown",
   "id": "cloudy-banner",
   "metadata": {},
   "source": [
    "## Hello World\n",
    "https://huggingface.co/transformers/quicktour.html"
   ]
  },
  {
   "cell_type": "code",
   "execution_count": null,
   "id": "funny-conditions",
   "metadata": {},
   "outputs": [],
   "source": [
    "from transformers import pipeline"
   ]
  },
  {
   "cell_type": "code",
   "execution_count": null,
   "id": "similar-institute",
   "metadata": {},
   "outputs": [],
   "source": [
    "classifier = pipeline('sentiment-analysis')"
   ]
  },
  {
   "cell_type": "code",
   "execution_count": null,
   "id": "military-secondary",
   "metadata": {},
   "outputs": [],
   "source": [
    "classifier('I\\'m very happy with this purchase. It\\'s a really good camera.')"
   ]
  },
  {
   "cell_type": "markdown",
   "id": "exterior-agent",
   "metadata": {},
   "source": [
    "## Use a specific model from the model hub\n",
    "https://huggingface.co/nlptown/bert-base-multilingual-uncased-sentiment"
   ]
  },
  {
   "cell_type": "code",
   "execution_count": null,
   "id": "interracial-perry",
   "metadata": {},
   "outputs": [],
   "source": [
    "classifier = pipeline(\n",
    "    'sentiment-analysis', \n",
    "    model='nlptown/bert-base-multilingual-uncased-sentiment'\n",
    ")"
   ]
  },
  {
   "cell_type": "code",
   "execution_count": null,
   "id": "impressive-round",
   "metadata": {},
   "outputs": [],
   "source": [
    "classifier('Je suis très content de mon achat. C\\'est un très bon appareil photo')"
   ]
  },
  {
   "cell_type": "code",
   "execution_count": null,
   "id": "incorporate-running",
   "metadata": {},
   "outputs": [],
   "source": [
    "classifier('I\\'m very happy with this purchase. It\\'s a really good camera.')"
   ]
  },
  {
   "cell_type": "code",
   "execution_count": null,
   "id": "accomplished-friendly",
   "metadata": {},
   "outputs": [],
   "source": []
  }
 ],
 "metadata": {
  "kernelspec": {
   "display_name": "conda_pytorch_p36",
   "language": "python",
   "name": "conda_pytorch_p36"
  },
  "language_info": {
   "codemirror_mode": {
    "name": "ipython",
    "version": 3
   },
   "file_extension": ".py",
   "mimetype": "text/x-python",
   "name": "python",
   "nbconvert_exporter": "python",
   "pygments_lexer": "ipython3",
   "version": "3.6.13"
  }
 },
 "nbformat": 4,
 "nbformat_minor": 5
}
