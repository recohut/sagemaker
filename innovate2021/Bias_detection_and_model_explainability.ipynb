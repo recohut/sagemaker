{
 "cells": [
  {
   "cell_type": "markdown",
   "metadata": {},
   "source": [
    "# Fairness and Explainability with SageMaker Clarify"
   ]
  },
  {
   "cell_type": "markdown",
   "metadata": {},
   "source": [
    "This notebook is a cleaned-up version of https://github.com/aws/amazon-sagemaker-examples/blob/master/sagemaker_processing/fairness_and_explainability/fairness_and_explainability.ipynb\n",
    "\n",
    "1. Download data\n",
    "2. Inspect data\n",
    "3. Encode dataset columns\n",
    "4. Train a classification model with XGBoost\n",
    "5. Analyse bias with SageMaker Clarify\n",
    "6. Explain feature importance with SageMaker Clarify\n",
    "7. Clean up"
   ]
  },
  {
   "cell_type": "code",
   "execution_count": null,
   "metadata": {},
   "outputs": [],
   "source": [
    "import pandas as pd\n",
    "import numpy as np\n",
    "import urllib, os\n",
    "\n",
    "from sagemaker import get_execution_role\n",
    "from sagemaker import Session\n",
    "\n",
    "session = Session()\n",
    "bucket  = session.default_bucket()\n",
    "prefix  = 'sagemaker/DEMO-sagemaker-clarify'\n",
    "region  = session.boto_region_name\n",
    "role    = get_execution_role()"
   ]
  },
  {
   "cell_type": "markdown",
   "metadata": {},
   "source": [
    "## 1 - Download data\n",
    "Data Source: https://archive.ics.uci.edu/ml/datasets/adult\n",
    "\n",
    "Dua Dheeru, and Efi Karra Taniskidou. \"[UCI Machine Learning Repository](http://archive.ics.uci.edu/ml)\". Irvine, CA: University of California, School of Information and Computer Science (2017)."
   ]
  },
  {
   "cell_type": "code",
   "execution_count": null,
   "metadata": {},
   "outputs": [],
   "source": [
    "urllib.request.urlretrieve(\n",
    "    'https://archive.ics.uci.edu/ml/machine-learning-databases/adult/adult.data',\n",
    "    'adult.data')"
   ]
  },
  {
   "cell_type": "code",
   "execution_count": null,
   "metadata": {},
   "outputs": [],
   "source": [
    "urllib.request.urlretrieve(\n",
    "    'https://archive.ics.uci.edu/ml/machine-learning-databases/adult/adult.test',\n",
    "    'adult.test')"
   ]
  },
  {
   "cell_type": "code",
   "execution_count": null,
   "metadata": {
    "scrolled": true
   },
   "outputs": [],
   "source": [
    "adult_columns = [\n",
    "    \"Age\", \"Workclass\", \"fnlwgt\", \"Education\", \n",
    "    \"Education-Num\", \"Marital Status\", \"Occupation\", \n",
    "    \"Relationship\", \"Ethnic group\", \"Sex\", \"Capital Gain\", \n",
    "    \"Capital Loss\", \"Hours per week\", \"Country\", \"Target\"]\n",
    "\n",
    "training_data = pd.read_csv(\"adult.data\",\n",
    "                             names=adult_columns,\n",
    "                             sep=r'\\s*,\\s*',\n",
    "                             engine='python',\n",
    "                             na_values=\"?\").dropna()\n",
    "\n",
    "testing_data = pd.read_csv(\"adult.test\",\n",
    "                            names=adult_columns,\n",
    "                            sep=r'\\s*,\\s*',\n",
    "                            engine='python',\n",
    "                            na_values=\"?\",\n",
    "                            skiprows=1).dropna()\n",
    "\n",
    "training_data.head()"
   ]
  },
  {
   "cell_type": "markdown",
   "metadata": {},
   "source": [
    "## 2 - Inspect data"
   ]
  },
  {
   "cell_type": "code",
   "execution_count": null,
   "metadata": {
    "scrolled": true
   },
   "outputs": [],
   "source": [
    "training_data['Sex'].value_counts().sort_values().plot(kind='bar', title='Counts of Sex', rot=0, figsize=(6, 3))"
   ]
  },
  {
   "cell_type": "code",
   "execution_count": null,
   "metadata": {
    "scrolled": true
   },
   "outputs": [],
   "source": [
    "training_data['Sex'].where(training_data['Target']=='>50K').value_counts().sort_values().plot(kind='bar', title='Counts of Sex earning >$50K', rot=0, figsize=(6, 3))"
   ]
  },
  {
   "cell_type": "markdown",
   "metadata": {},
   "source": [
    "## 3 - Encode data"
   ]
  },
  {
   "cell_type": "code",
   "execution_count": null,
   "metadata": {},
   "outputs": [],
   "source": [
    "from sklearn import preprocessing\n",
    "def number_encode_features(df):\n",
    "    result = df.copy()\n",
    "    encoders = {}\n",
    "    for column in result.columns:\n",
    "        if result.dtypes[column] == np.object:\n",
    "            encoders[column] = preprocessing.LabelEncoder()\n",
    "            #  print('Column:', column, result[column])\n",
    "            result[column] = encoders[column].fit_transform(result[column].fillna('None'))\n",
    "    return result, encoders\n",
    "\n",
    "training_data = pd.concat([training_data['Target'], training_data.drop(['Target'], axis=1)], axis=1)\n",
    "training_data, _ = number_encode_features(training_data)\n",
    "training_data.to_csv('train_data.csv', index=False, header=False)\n",
    "\n",
    "testing_data = pd.concat([testing_data['Target'], testing_data.drop(['Target'], axis=1)], axis=1)\n",
    "testing_data, _ = number_encode_features(testing_data)\n",
    "testing_data.to_csv('test_features.csv', index=False, header=False)"
   ]
  },
  {
   "cell_type": "markdown",
   "metadata": {},
   "source": [
    "A quick note about our encoding: the \"Female\" Sex value has been encoded as 0 and \"Male\" as 1."
   ]
  },
  {
   "cell_type": "code",
   "execution_count": null,
   "metadata": {},
   "outputs": [],
   "source": [
    "training_data.head()"
   ]
  },
  {
   "cell_type": "markdown",
   "metadata": {},
   "source": [
    "## 4 - Train a classification model with XGBoost on Amazon SageMaker"
   ]
  },
  {
   "cell_type": "code",
   "execution_count": null,
   "metadata": {},
   "outputs": [],
   "source": [
    "from sagemaker.s3 import S3Uploader\n",
    "from sagemaker.inputs import TrainingInput\n",
    "\n",
    "train_uri = S3Uploader.upload('train_data.csv', 's3://{}/{}'.format(bucket, prefix))\n",
    "train_input = TrainingInput(train_uri, content_type='csv')\n",
    "\n",
    "test_uri = S3Uploader.upload('test_features.csv', 's3://{}/{}'.format(bucket, prefix))\n",
    "test_input = TrainingInput(test_uri, content_type='csv')"
   ]
  },
  {
   "cell_type": "code",
   "execution_count": null,
   "metadata": {},
   "outputs": [],
   "source": [
    "from sagemaker.image_uris import retrieve\n",
    "from sagemaker.estimator import Estimator\n",
    "\n",
    "container = retrieve('xgboost', region, version='1.2-1')\n",
    "\n",
    "xgb = Estimator(container,\n",
    "                role,\n",
    "                instance_count=1,\n",
    "                instance_type='ml.m4.xlarge')\n",
    "\n",
    "xgb.set_hyperparameters(max_depth=5,\n",
    "                        eta=0.2,\n",
    "                        gamma=4,\n",
    "                        min_child_weight=6,\n",
    "                        subsample=0.8,\n",
    "                        objective='binary:logistic',\n",
    "                        num_round=1000,\n",
    "                        early_stopping_rounds=10)\n",
    "\n",
    "xgb.fit({'train': train_input, 'validation': test_input})"
   ]
  },
  {
   "cell_type": "code",
   "execution_count": null,
   "metadata": {},
   "outputs": [],
   "source": [
    "from time import gmtime, strftime\n",
    "\n",
    "model_name = 'DEMO-clarify-model-'+strftime('%d-%H-%M-%S', gmtime())\n",
    "model = xgb.create_model(name=model_name)\n",
    "session.create_model(model_name, \n",
    "                     role, \n",
    "                     model.prepare_container_def())"
   ]
  },
  {
   "cell_type": "markdown",
   "metadata": {},
   "source": [
    "## 5 - Analyze bias with Amazon SageMaker Clarify"
   ]
  },
  {
   "cell_type": "markdown",
   "metadata": {},
   "source": [
    "### Define a SageMaker Processing processor"
   ]
  },
  {
   "cell_type": "code",
   "execution_count": null,
   "metadata": {},
   "outputs": [],
   "source": [
    "from sagemaker import clarify\n",
    "\n",
    "clarify_processor = clarify.SageMakerClarifyProcessor(\n",
    "    role=role,\n",
    "    instance_count=1,\n",
    "    instance_type='ml.c4.xlarge',\n",
    "    sagemaker_session=session)"
   ]
  },
  {
   "cell_type": "markdown",
   "metadata": {},
   "source": [
    "### Configuring bias detection"
   ]
  },
  {
   "cell_type": "code",
   "execution_count": null,
   "metadata": {},
   "outputs": [],
   "source": [
    "bias_report_output_path = 's3://{}/{}/clarify-bias'.format(bucket, prefix)\n",
    "\n",
    "# The dataset to analyze (pre-training metrics)\n",
    "bias_data_config = clarify.DataConfig(\n",
    "    s3_data_input_path=train_uri,\n",
    "    s3_output_path=bias_report_output_path,\n",
    "    label='Target',\n",
    "    headers=training_data.columns.to_list(),\n",
    "    dataset_type='text/csv')\n",
    "\n",
    "# The configuration of the temporary endpoint (post-training metrics)\n",
    "model_config = clarify.ModelConfig(\n",
    "    model_name=model_name,\n",
    "    instance_type='ml.c5.xlarge',\n",
    "    instance_count=1,\n",
    "    accept_type='text/csv')"
   ]
  },
  {
   "cell_type": "code",
   "execution_count": null,
   "metadata": {},
   "outputs": [],
   "source": [
    "bias_config = clarify.BiasConfig(\n",
    "    label_values_or_threshold=[1],\n",
    "    facet_name='Sex',\n",
    "    facet_values_or_threshold=[0])"
   ]
  },
  {
   "cell_type": "markdown",
   "metadata": {},
   "source": [
    "### Compute pre-training and post-training bias metrics"
   ]
  },
  {
   "cell_type": "code",
   "execution_count": null,
   "metadata": {},
   "outputs": [],
   "source": [
    "clarify_processor.run_bias(\n",
    "    data_config=bias_data_config,\n",
    "    bias_config=bias_config,\n",
    "    model_config=model_config,\n",
    "    pre_training_methods='all',\n",
    "    post_training_methods='all')"
   ]
  },
  {
   "cell_type": "markdown",
   "metadata": {},
   "source": [
    "If you're not a Studio user yet, you can access the bias report in pdf, html and ipynb formats in the following S3 bucket:"
   ]
  },
  {
   "cell_type": "code",
   "execution_count": null,
   "metadata": {},
   "outputs": [],
   "source": [
    "bias_report_output_path"
   ]
  },
  {
   "cell_type": "code",
   "execution_count": null,
   "metadata": {},
   "outputs": [],
   "source": [
    "%%sh -s $bias_report_output_path\n",
    "aws s3 cp --recursive $1/ ."
   ]
  },
  {
   "cell_type": "markdown",
   "metadata": {},
   "source": [
    "## 6 - Explain feature importance with Amazon SageMaker Clarify"
   ]
  },
  {
   "cell_type": "code",
   "execution_count": null,
   "metadata": {},
   "outputs": [],
   "source": [
    "# Drop the label column\n",
    "testing_features = testing_data.drop(['Target'], axis=1)\n",
    "\n",
    "shap_config = clarify.SHAPConfig(baseline=[testing_features.iloc[0].values.tolist()],\n",
    "                                 num_samples=15,\n",
    "                                 agg_method='mean_abs')\n",
    "\n",
    "explainability_output_path = 's3://{}/{}/clarify-explainability'.format(bucket, prefix)\n",
    "\n",
    "explainability_data_config = clarify.DataConfig(\n",
    "    s3_data_input_path=train_uri,\n",
    "    s3_output_path=explainability_output_path,\n",
    "    label='Target',\n",
    "    headers=training_data.columns.to_list(),\n",
    "    dataset_type='text/csv')"
   ]
  },
  {
   "cell_type": "code",
   "execution_count": null,
   "metadata": {},
   "outputs": [],
   "source": [
    "clarify_processor.run_explainability(\n",
    "    data_config=explainability_data_config,\n",
    "    model_config=model_config,\n",
    "    explainability_config=shap_config)"
   ]
  },
  {
   "cell_type": "code",
   "execution_count": null,
   "metadata": {},
   "outputs": [],
   "source": [
    "explainability_output_path"
   ]
  },
  {
   "cell_type": "code",
   "execution_count": null,
   "metadata": {},
   "outputs": [],
   "source": [
    "explanations = pd.read_csv(explainability_output_path+'/explanations_shap/out.csv')\n",
    "explanations.head()"
   ]
  },
  {
   "cell_type": "markdown",
   "metadata": {},
   "source": [
    "## 7 - Clean up"
   ]
  },
  {
   "cell_type": "code",
   "execution_count": null,
   "metadata": {},
   "outputs": [],
   "source": [
    "#session.delete_model(model_name)"
   ]
  },
  {
   "cell_type": "code",
   "execution_count": null,
   "metadata": {},
   "outputs": [],
   "source": []
  }
 ],
 "metadata": {
  "instance_type": "ml.m5.large",
  "kernelspec": {
   "display_name": "Python 3 (Data Science)",
   "language": "python",
   "name": "python3__SAGEMAKER_INTERNAL__arn:aws:sagemaker:eu-west-1:470317259841:image/datascience-1.0"
  },
  "language_info": {
   "codemirror_mode": {
    "name": "ipython",
    "version": 3
   },
   "file_extension": ".py",
   "mimetype": "text/x-python",
   "name": "python",
   "nbconvert_exporter": "python",
   "pygments_lexer": "ipython3",
   "version": "3.7.6"
  }
 },
 "nbformat": 4,
 "nbformat_minor": 4
}
